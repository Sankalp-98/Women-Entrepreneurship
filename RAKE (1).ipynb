{
 "cells": [
  {
   "cell_type": "code",
   "execution_count": 1,
   "metadata": {
    "id": "wiWeVDQmxGV_"
   },
   "outputs": [],
   "source": [
    "import numpy as np\n",
    "import pandas as pd"
   ]
  },
  {
   "cell_type": "code",
   "execution_count": 23,
   "metadata": {
    "colab": {
     "base_uri": "https://localhost:8080/",
     "height": 402
    },
    "id": "8kxSVMHfxYGj",
    "outputId": "df778cbd-6907-492f-9ac7-6b394a94e522"
   },
   "outputs": [
    {
     "data": {
      "text/html": [
       "<div>\n",
       "<style scoped>\n",
       "    .dataframe tbody tr th:only-of-type {\n",
       "        vertical-align: middle;\n",
       "    }\n",
       "\n",
       "    .dataframe tbody tr th {\n",
       "        vertical-align: top;\n",
       "    }\n",
       "\n",
       "    .dataframe thead th {\n",
       "        text-align: right;\n",
       "    }\n",
       "</style>\n",
       "<table border=\"1\" class=\"dataframe\">\n",
       "  <thead>\n",
       "    <tr style=\"text-align: right;\">\n",
       "      <th></th>\n",
       "      <th>Timestamp</th>\n",
       "      <th>Full Name</th>\n",
       "      <th>City</th>\n",
       "      <th>Brief about your start-up</th>\n",
       "    </tr>\n",
       "  </thead>\n",
       "  <tbody>\n",
       "    <tr>\n",
       "      <th>0</th>\n",
       "      <td>2020-08-20 16:39:50.273</td>\n",
       "      <td>Mehak Nayyar</td>\n",
       "      <td>Bareilly</td>\n",
       "      <td>Make handmade products at home related to knit...</td>\n",
       "    </tr>\n",
       "    <tr>\n",
       "      <th>1</th>\n",
       "      <td>2020-08-20 18:08:17.990</td>\n",
       "      <td>Anshika Jain</td>\n",
       "      <td>Sagar</td>\n",
       "      <td>Craft based product design</td>\n",
       "    </tr>\n",
       "    <tr>\n",
       "      <th>2</th>\n",
       "      <td>2020-08-20 18:14:07.821</td>\n",
       "      <td>Bhairavee Pradhan-Nitave</td>\n",
       "      <td>Pune</td>\n",
       "      <td>I am a working professional.</td>\n",
       "    </tr>\n",
       "    <tr>\n",
       "      <th>3</th>\n",
       "      <td>2020-08-20 18:21:00.268</td>\n",
       "      <td>Monika</td>\n",
       "      <td>Chennai</td>\n",
       "      <td>Really new to this  so no idea</td>\n",
       "    </tr>\n",
       "    <tr>\n",
       "      <th>4</th>\n",
       "      <td>2020-08-20 19:32:41.238</td>\n",
       "      <td>Stuti Prasad</td>\n",
       "      <td>MUMBAI</td>\n",
       "      <td>I am working with a road safety startup.</td>\n",
       "    </tr>\n",
       "    <tr>\n",
       "      <th>...</th>\n",
       "      <td>...</td>\n",
       "      <td>...</td>\n",
       "      <td>...</td>\n",
       "      <td>...</td>\n",
       "    </tr>\n",
       "    <tr>\n",
       "      <th>93</th>\n",
       "      <td>2020-10-02 10:55:11.504</td>\n",
       "      <td>Nancy Felix</td>\n",
       "      <td>Navi Mumbai</td>\n",
       "      <td>Eco friendly and reusable cups and plates</td>\n",
       "    </tr>\n",
       "    <tr>\n",
       "      <th>94</th>\n",
       "      <td>2020-10-02 17:28:00.851</td>\n",
       "      <td>Renuka Deshmukh</td>\n",
       "      <td>Mumbai</td>\n",
       "      <td>Rural Educationist</td>\n",
       "    </tr>\n",
       "    <tr>\n",
       "      <th>95</th>\n",
       "      <td>2020-10-02 20:28:38.458</td>\n",
       "      <td>Iba Basan</td>\n",
       "      <td>Shillong</td>\n",
       "      <td>I started with a small online btob app with th...</td>\n",
       "    </tr>\n",
       "    <tr>\n",
       "      <th>96</th>\n",
       "      <td>2020-10-03 12:59:57.427</td>\n",
       "      <td>Jayant tiwari</td>\n",
       "      <td>Pune</td>\n",
       "      <td>Coaching</td>\n",
       "    </tr>\n",
       "    <tr>\n",
       "      <th>97</th>\n",
       "      <td>2020-10-09 14:17:28.803</td>\n",
       "      <td>SAJJA SAI PRIYANKA</td>\n",
       "      <td>HYDERABAD</td>\n",
       "      <td>Artha Samarth is a social venture aimed to bui...</td>\n",
       "    </tr>\n",
       "  </tbody>\n",
       "</table>\n",
       "<p>98 rows × 4 columns</p>\n",
       "</div>"
      ],
      "text/plain": [
       "                 Timestamp  ...                         Brief about your start-up \n",
       "0  2020-08-20 16:39:50.273  ...  Make handmade products at home related to knit...\n",
       "1  2020-08-20 18:08:17.990  ...                         Craft based product design\n",
       "2  2020-08-20 18:14:07.821  ...                       I am a working professional.\n",
       "3  2020-08-20 18:21:00.268  ...                    Really new to this  so no idea \n",
       "4  2020-08-20 19:32:41.238  ...           I am working with a road safety startup.\n",
       "..                     ...  ...                                                ...\n",
       "93 2020-10-02 10:55:11.504  ...          Eco friendly and reusable cups and plates\n",
       "94 2020-10-02 17:28:00.851  ...                                Rural Educationist \n",
       "95 2020-10-02 20:28:38.458  ...  I started with a small online btob app with th...\n",
       "96 2020-10-03 12:59:57.427  ...                                           Coaching\n",
       "97 2020-10-09 14:17:28.803  ...  Artha Samarth is a social venture aimed to bui...\n",
       "\n",
       "[98 rows x 4 columns]"
      ]
     },
     "execution_count": 23,
     "metadata": {
      "tags": []
     },
     "output_type": "execute_result"
    }
   ],
   "source": [
    "df=pd.read_excel('Women Entrepreneurs Meetup (Responses).xlsx')\n",
    "df"
   ]
  },
  {
   "cell_type": "code",
   "execution_count": 24,
   "metadata": {
    "colab": {
     "base_uri": "https://localhost:8080/"
    },
    "id": "S1p1dG-vxY83",
    "outputId": "a52320c5-3e14-4ac6-c772-63a50a0d2ab7"
   },
   "outputs": [
    {
     "name": "stdout",
     "output_type": "stream",
     "text": [
      "Requirement already satisfied: rake-nltk in /usr/local/lib/python3.6/dist-packages (1.0.4)\n",
      "Requirement already satisfied: nltk in /usr/local/lib/python3.6/dist-packages (from rake-nltk) (3.2.5)\n",
      "Requirement already satisfied: six in /usr/local/lib/python3.6/dist-packages (from nltk->rake-nltk) (1.15.0)\n"
     ]
    }
   ],
   "source": [
    "pip install rake-nltk"
   ]
  },
  {
   "cell_type": "code",
   "execution_count": 26,
   "metadata": {
    "id": "sQBxM7y2xlPy"
   },
   "outputs": [],
   "source": [
    "from rake_nltk import Rake"
   ]
  },
  {
   "cell_type": "code",
   "execution_count": 27,
   "metadata": {
    "colab": {
     "base_uri": "https://localhost:8080/"
    },
    "id": "qNCLXLi9xpyF",
    "outputId": "88bbe9fc-392b-4f80-d0f2-cd46b72bc167"
   },
   "outputs": [
    {
     "data": {
      "text/plain": [
       "[(9.0, 'make handmade products'), (4.0, 'knitted dresses')]"
      ]
     },
     "execution_count": 27,
     "metadata": {
      "tags": []
     },
     "output_type": "execute_result"
    }
   ],
   "source": [
    "r=Rake()\n",
    "r.extract_keywords_from_text(df['Brief about your start-up '][0])\n",
    "r.get_ranked_phrases_with_scores()[:2]"
   ]
  },
  {
   "cell_type": "code",
   "execution_count": 28,
   "metadata": {
    "id": "q4j_x4PG9tmz"
   },
   "outputs": [],
   "source": [
    "df['keyword']=df['Brief about your start-up ']"
   ]
  },
  {
   "cell_type": "code",
   "execution_count": 29,
   "metadata": {
    "colab": {
     "base_uri": "https://localhost:8080/",
     "height": 570
    },
    "id": "QjpDYt5p8c8X",
    "outputId": "bf1a65e1-0322-4370-c9b8-a71e8062137f"
   },
   "outputs": [
    {
     "data": {
      "text/html": [
       "<div>\n",
       "<style scoped>\n",
       "    .dataframe tbody tr th:only-of-type {\n",
       "        vertical-align: middle;\n",
       "    }\n",
       "\n",
       "    .dataframe tbody tr th {\n",
       "        vertical-align: top;\n",
       "    }\n",
       "\n",
       "    .dataframe thead th {\n",
       "        text-align: right;\n",
       "    }\n",
       "</style>\n",
       "<table border=\"1\" class=\"dataframe\">\n",
       "  <thead>\n",
       "    <tr style=\"text-align: right;\">\n",
       "      <th></th>\n",
       "      <th>Timestamp</th>\n",
       "      <th>Full Name</th>\n",
       "      <th>City</th>\n",
       "      <th>Brief about your start-up</th>\n",
       "      <th>keyword</th>\n",
       "    </tr>\n",
       "  </thead>\n",
       "  <tbody>\n",
       "    <tr>\n",
       "      <th>0</th>\n",
       "      <td>2020-08-20 16:39:50.273</td>\n",
       "      <td>Mehak Nayyar</td>\n",
       "      <td>Bareilly</td>\n",
       "      <td>Make handmade products at home related to knit...</td>\n",
       "      <td>Make handmade products at home related to knit...</td>\n",
       "    </tr>\n",
       "    <tr>\n",
       "      <th>1</th>\n",
       "      <td>2020-08-20 18:08:17.990</td>\n",
       "      <td>Anshika Jain</td>\n",
       "      <td>Sagar</td>\n",
       "      <td>Craft based product design</td>\n",
       "      <td>Craft based product design</td>\n",
       "    </tr>\n",
       "    <tr>\n",
       "      <th>2</th>\n",
       "      <td>2020-08-20 18:14:07.821</td>\n",
       "      <td>Bhairavee Pradhan-Nitave</td>\n",
       "      <td>Pune</td>\n",
       "      <td>I am a working professional.</td>\n",
       "      <td>I am a working professional.</td>\n",
       "    </tr>\n",
       "    <tr>\n",
       "      <th>3</th>\n",
       "      <td>2020-08-20 18:21:00.268</td>\n",
       "      <td>Monika</td>\n",
       "      <td>Chennai</td>\n",
       "      <td>Really new to this  so no idea</td>\n",
       "      <td>Really new to this  so no idea</td>\n",
       "    </tr>\n",
       "    <tr>\n",
       "      <th>4</th>\n",
       "      <td>2020-08-20 19:32:41.238</td>\n",
       "      <td>Stuti Prasad</td>\n",
       "      <td>MUMBAI</td>\n",
       "      <td>I am working with a road safety startup.</td>\n",
       "      <td>I am working with a road safety startup.</td>\n",
       "    </tr>\n",
       "    <tr>\n",
       "      <th>...</th>\n",
       "      <td>...</td>\n",
       "      <td>...</td>\n",
       "      <td>...</td>\n",
       "      <td>...</td>\n",
       "      <td>...</td>\n",
       "    </tr>\n",
       "    <tr>\n",
       "      <th>93</th>\n",
       "      <td>2020-10-02 10:55:11.504</td>\n",
       "      <td>Nancy Felix</td>\n",
       "      <td>Navi Mumbai</td>\n",
       "      <td>Eco friendly and reusable cups and plates</td>\n",
       "      <td>Eco friendly and reusable cups and plates</td>\n",
       "    </tr>\n",
       "    <tr>\n",
       "      <th>94</th>\n",
       "      <td>2020-10-02 17:28:00.851</td>\n",
       "      <td>Renuka Deshmukh</td>\n",
       "      <td>Mumbai</td>\n",
       "      <td>Rural Educationist</td>\n",
       "      <td>Rural Educationist</td>\n",
       "    </tr>\n",
       "    <tr>\n",
       "      <th>95</th>\n",
       "      <td>2020-10-02 20:28:38.458</td>\n",
       "      <td>Iba Basan</td>\n",
       "      <td>Shillong</td>\n",
       "      <td>I started with a small online btob app with th...</td>\n",
       "      <td>I started with a small online btob app with th...</td>\n",
       "    </tr>\n",
       "    <tr>\n",
       "      <th>96</th>\n",
       "      <td>2020-10-03 12:59:57.427</td>\n",
       "      <td>Jayant tiwari</td>\n",
       "      <td>Pune</td>\n",
       "      <td>Coaching</td>\n",
       "      <td>Coaching</td>\n",
       "    </tr>\n",
       "    <tr>\n",
       "      <th>97</th>\n",
       "      <td>2020-10-09 14:17:28.803</td>\n",
       "      <td>SAJJA SAI PRIYANKA</td>\n",
       "      <td>HYDERABAD</td>\n",
       "      <td>Artha Samarth is a social venture aimed to bui...</td>\n",
       "      <td>Artha Samarth is a social venture aimed to bui...</td>\n",
       "    </tr>\n",
       "  </tbody>\n",
       "</table>\n",
       "<p>98 rows × 5 columns</p>\n",
       "</div>"
      ],
      "text/plain": [
       "                 Timestamp  ...                                            keyword\n",
       "0  2020-08-20 16:39:50.273  ...  Make handmade products at home related to knit...\n",
       "1  2020-08-20 18:08:17.990  ...                         Craft based product design\n",
       "2  2020-08-20 18:14:07.821  ...                       I am a working professional.\n",
       "3  2020-08-20 18:21:00.268  ...                    Really new to this  so no idea \n",
       "4  2020-08-20 19:32:41.238  ...           I am working with a road safety startup.\n",
       "..                     ...  ...                                                ...\n",
       "93 2020-10-02 10:55:11.504  ...          Eco friendly and reusable cups and plates\n",
       "94 2020-10-02 17:28:00.851  ...                                Rural Educationist \n",
       "95 2020-10-02 20:28:38.458  ...  I started with a small online btob app with th...\n",
       "96 2020-10-03 12:59:57.427  ...                                           Coaching\n",
       "97 2020-10-09 14:17:28.803  ...  Artha Samarth is a social venture aimed to bui...\n",
       "\n",
       "[98 rows x 5 columns]"
      ]
     },
     "execution_count": 29,
     "metadata": {
      "tags": []
     },
     "output_type": "execute_result"
    }
   ],
   "source": [
    "df"
   ]
  },
  {
   "cell_type": "code",
   "execution_count": 31,
   "metadata": {
    "colab": {
     "base_uri": "https://localhost:8080/",
     "height": 654
    },
    "id": "Pk-zfAmVyAEx",
    "outputId": "9cdb9026-2dd0-4d76-a09e-e0f61b496260"
   },
   "outputs": [
    {
     "name": "stderr",
     "output_type": "stream",
     "text": [
      "/usr/local/lib/python3.6/dist-packages/ipykernel_launcher.py:5: SettingWithCopyWarning: \n",
      "A value is trying to be set on a copy of a slice from a DataFrame\n",
      "\n",
      "See the caveats in the documentation: https://pandas.pydata.org/pandas-docs/stable/user_guide/indexing.html#returning-a-view-versus-a-copy\n",
      "  \"\"\"\n"
     ]
    },
    {
     "data": {
      "text/html": [
       "<div>\n",
       "<style scoped>\n",
       "    .dataframe tbody tr th:only-of-type {\n",
       "        vertical-align: middle;\n",
       "    }\n",
       "\n",
       "    .dataframe tbody tr th {\n",
       "        vertical-align: top;\n",
       "    }\n",
       "\n",
       "    .dataframe thead th {\n",
       "        text-align: right;\n",
       "    }\n",
       "</style>\n",
       "<table border=\"1\" class=\"dataframe\">\n",
       "  <thead>\n",
       "    <tr style=\"text-align: right;\">\n",
       "      <th></th>\n",
       "      <th>Timestamp</th>\n",
       "      <th>Full Name</th>\n",
       "      <th>City</th>\n",
       "      <th>Brief about your start-up</th>\n",
       "      <th>keyword</th>\n",
       "    </tr>\n",
       "  </thead>\n",
       "  <tbody>\n",
       "    <tr>\n",
       "      <th>0</th>\n",
       "      <td>2020-08-20 16:39:50.273</td>\n",
       "      <td>Mehak Nayyar</td>\n",
       "      <td>Bareilly</td>\n",
       "      <td>Make handmade products at home related to knit...</td>\n",
       "      <td>[(9.0, make handmade products), (4.0, knitted ...</td>\n",
       "    </tr>\n",
       "    <tr>\n",
       "      <th>1</th>\n",
       "      <td>2020-08-20 18:08:17.990</td>\n",
       "      <td>Anshika Jain</td>\n",
       "      <td>Sagar</td>\n",
       "      <td>Craft based product design</td>\n",
       "      <td>[(16.0, craft based product design)]</td>\n",
       "    </tr>\n",
       "    <tr>\n",
       "      <th>2</th>\n",
       "      <td>2020-08-20 18:14:07.821</td>\n",
       "      <td>Bhairavee Pradhan-Nitave</td>\n",
       "      <td>Pune</td>\n",
       "      <td>I am a working professional.</td>\n",
       "      <td>[(4.0, working professional)]</td>\n",
       "    </tr>\n",
       "    <tr>\n",
       "      <th>3</th>\n",
       "      <td>2020-08-20 18:21:00.268</td>\n",
       "      <td>Monika</td>\n",
       "      <td>Chennai</td>\n",
       "      <td>Really new to this  so no idea</td>\n",
       "      <td>[(4.0, really new), (1.0, idea)]</td>\n",
       "    </tr>\n",
       "    <tr>\n",
       "      <th>4</th>\n",
       "      <td>2020-08-20 19:32:41.238</td>\n",
       "      <td>Stuti Prasad</td>\n",
       "      <td>MUMBAI</td>\n",
       "      <td>I am working with a road safety startup.</td>\n",
       "      <td>[(9.0, road safety startup), (1.0, working)]</td>\n",
       "    </tr>\n",
       "    <tr>\n",
       "      <th>...</th>\n",
       "      <td>...</td>\n",
       "      <td>...</td>\n",
       "      <td>...</td>\n",
       "      <td>...</td>\n",
       "      <td>...</td>\n",
       "    </tr>\n",
       "    <tr>\n",
       "      <th>93</th>\n",
       "      <td>2020-10-02 10:55:11.504</td>\n",
       "      <td>Nancy Felix</td>\n",
       "      <td>Navi Mumbai</td>\n",
       "      <td>Eco friendly and reusable cups and plates</td>\n",
       "      <td>[(4.0, reusable cups), (4.0, eco friendly)]</td>\n",
       "    </tr>\n",
       "    <tr>\n",
       "      <th>94</th>\n",
       "      <td>2020-10-02 17:28:00.851</td>\n",
       "      <td>Renuka Deshmukh</td>\n",
       "      <td>Mumbai</td>\n",
       "      <td>Rural Educationist</td>\n",
       "      <td>[(4.0, rural educationist)]</td>\n",
       "    </tr>\n",
       "    <tr>\n",
       "      <th>95</th>\n",
       "      <td>2020-10-02 20:28:38.458</td>\n",
       "      <td>Iba Basan</td>\n",
       "      <td>Shillong</td>\n",
       "      <td>I started with a small online btob app with th...</td>\n",
       "      <td>[(16.0, small online btob app), (9.0, young in...</td>\n",
       "    </tr>\n",
       "    <tr>\n",
       "      <th>96</th>\n",
       "      <td>2020-10-03 12:59:57.427</td>\n",
       "      <td>Jayant tiwari</td>\n",
       "      <td>Pune</td>\n",
       "      <td>Coaching</td>\n",
       "      <td>[(1.0, coaching)]</td>\n",
       "    </tr>\n",
       "    <tr>\n",
       "      <th>97</th>\n",
       "      <td>2020-10-09 14:17:28.803</td>\n",
       "      <td>SAJJA SAI PRIYANKA</td>\n",
       "      <td>HYDERABAD</td>\n",
       "      <td>Artha Samarth is a social venture aimed to bui...</td>\n",
       "      <td>[(18.933333333333334, newly established ngos w...</td>\n",
       "    </tr>\n",
       "  </tbody>\n",
       "</table>\n",
       "<p>98 rows × 5 columns</p>\n",
       "</div>"
      ],
      "text/plain": [
       "                 Timestamp  ...                                            keyword\n",
       "0  2020-08-20 16:39:50.273  ...  [(9.0, make handmade products), (4.0, knitted ...\n",
       "1  2020-08-20 18:08:17.990  ...               [(16.0, craft based product design)]\n",
       "2  2020-08-20 18:14:07.821  ...                      [(4.0, working professional)]\n",
       "3  2020-08-20 18:21:00.268  ...                   [(4.0, really new), (1.0, idea)]\n",
       "4  2020-08-20 19:32:41.238  ...       [(9.0, road safety startup), (1.0, working)]\n",
       "..                     ...  ...                                                ...\n",
       "93 2020-10-02 10:55:11.504  ...        [(4.0, reusable cups), (4.0, eco friendly)]\n",
       "94 2020-10-02 17:28:00.851  ...                        [(4.0, rural educationist)]\n",
       "95 2020-10-02 20:28:38.458  ...  [(16.0, small online btob app), (9.0, young in...\n",
       "96 2020-10-03 12:59:57.427  ...                                  [(1.0, coaching)]\n",
       "97 2020-10-09 14:17:28.803  ...  [(18.933333333333334, newly established ngos w...\n",
       "\n",
       "[98 rows x 5 columns]"
      ]
     },
     "execution_count": 31,
     "metadata": {
      "tags": []
     },
     "output_type": "execute_result"
    }
   ],
   "source": [
    "\n",
    "for i in range(len(df)):\n",
    "  r=Rake()\n",
    "  r.extract_keywords_from_text(df['Brief about your start-up '][i])\n",
    "  df['keyword'][i]=r.get_ranked_phrases_with_scores()[:2]\n",
    "  \n",
    "  \n",
    "df"
   ]
  },
  {
   "cell_type": "code",
   "execution_count": 33,
   "metadata": {
    "colab": {
     "base_uri": "https://localhost:8080/"
    },
    "id": "k1jccgq15jFE",
    "outputId": "691e5a34-a12c-4f38-b6fa-3673cc31772d"
   },
   "outputs": [
    {
     "data": {
      "text/plain": [
       "list"
      ]
     },
     "execution_count": 33,
     "metadata": {
      "tags": []
     },
     "output_type": "execute_result"
    }
   ],
   "source": [
    "type(df['keyword'][0])"
   ]
  },
  {
   "cell_type": "code",
   "execution_count": 35,
   "metadata": {
    "colab": {
     "base_uri": "https://localhost:8080/"
    },
    "id": "AVx7RKn2-Sfd",
    "outputId": "dbf36667-12f6-421b-b5f6-2effd20410af"
   },
   "outputs": [
    {
     "data": {
      "text/plain": [
       "1"
      ]
     },
     "execution_count": 35,
     "metadata": {
      "tags": []
     },
     "output_type": "execute_result"
    }
   ],
   "source": [
    "len(df['keyword'][1])"
   ]
  },
  {
   "cell_type": "code",
   "execution_count": 36,
   "metadata": {
    "id": "kt3AdXzU-ZJo"
   },
   "outputs": [],
   "source": [
    "first_keyword=[]\n",
    "second_keyword=[]\n",
    "for i in range(len(df)):\n",
    "  first_keyword.append(df['keyword'][i][0][1])\n",
    "  if len(df['keyword'][i])<2:\n",
    "    second_keyword.append(df['keyword'][i][0][1])\n",
    "  else:\n",
    "    second_keyword.append(df['keyword'][i][1][1])\n"
   ]
  },
  {
   "cell_type": "code",
   "execution_count": 37,
   "metadata": {
    "colab": {
     "base_uri": "https://localhost:8080/"
    },
    "id": "TGBXdXeT5lKL",
    "outputId": "7db99f8d-9c7a-4112-8602-2b5bff628b0b"
   },
   "outputs": [
    {
     "data": {
      "text/plain": [
       "['make handmade products',\n",
       " 'craft based product design',\n",
       " 'working professional',\n",
       " 'really new',\n",
       " 'road safety startup',\n",
       " 'however interested',\n",
       " 'year 2018',\n",
       " 'french learning academy based',\n",
       " 'leaning selectively new technology interests',\n",
       " 'looking forward',\n",
       " 'kishma venture pvt ltd',\n",
       " 'kishma venture pvt ltd',\n",
       " 'entrepreneurship education',\n",
       " 'real estate consultant',\n",
       " '4 start ups',\n",
       " 'student',\n",
       " 'urban research',\n",
       " 'independent consultancy',\n",
       " 'creative agency focused',\n",
       " 'startup till',\n",
       " 'business ..',\n",
       " 'run small boutique called',\n",
       " 'cricket entertainment',\n",
       " 'yet started',\n",
       " 'design women clothing',\n",
       " 'first remote work consultancy',\n",
       " 'spices business',\n",
       " 'transformation life coach',\n",
       " 'cricket entertainment',\n",
       " 'make hand made dresses',\n",
       " 'well',\n",
       " 'startup focused upon law awareness',\n",
       " 'home bakery',\n",
       " 'extremely good subject matter experts',\n",
       " 'extremely good subject matter experts',\n",
       " 'great',\n",
       " 'fulltime working professional',\n",
       " 'ngo working',\n",
       " 'home made veg masala',\n",
       " 'school going girls',\n",
       " 'start one',\n",
       " 'way durgabai deshmukh',\n",
       " 'legal',\n",
       " 'diy handmade craft',\n",
       " 'looking',\n",
       " 'digital marketing company',\n",
       " 'wedding essentials',\n",
       " 'paper sculpture',\n",
       " 'paper sculpture',\n",
       " 'story based perfume company',\n",
       " 'inclusive learning environment',\n",
       " 'start',\n",
       " 'catering business',\n",
       " 'homemaker',\n",
       " 'wellness organization ...',\n",
       " 'start',\n",
       " 'business consultant helping start',\n",
       " 'catering business soon',\n",
       " 'handcrafted products',\n",
       " 'never fades .... trendy',\n",
       " 'section 8 company aiming',\n",
       " 'interested ur bussins',\n",
       " 'various materials',\n",
       " 'water management',\n",
       " 'marketing',\n",
       " 'cake shop franchise',\n",
       " 'end media tech travel startup',\n",
       " 'yoga startup initially',\n",
       " 'free grain dissertation systems',\n",
       " 'freelancer teacher',\n",
       " 'agriculture livelihood activities',\n",
       " 'ups soon',\n",
       " 'fitness trainer based',\n",
       " 'active learner seizing opportunities',\n",
       " 'aspiring game designer',\n",
       " 'digital marketing',\n",
       " 'womens products',\n",
       " 'healthy foods like consuming',\n",
       " 'someting',\n",
       " 'bakery',\n",
       " 'education',\n",
       " 'gshsjsbsvshh',\n",
       " 'currently pursuing bcom',\n",
       " 'want',\n",
       " 'web development agency',\n",
       " 'educate add spread awareness',\n",
       " 'women group',\n",
       " 'online clothing store',\n",
       " 'cup designing',\n",
       " 'started yet',\n",
       " 'cup designing',\n",
       " 'chole bhature home delivery',\n",
       " 'food related blogs right',\n",
       " 'reusable cups',\n",
       " 'rural educationist',\n",
       " 'small online btob app',\n",
       " 'coaching',\n",
       " 'newly established ngos would require']"
      ]
     },
     "execution_count": 37,
     "metadata": {
      "tags": []
     },
     "output_type": "execute_result"
    }
   ],
   "source": [
    "first_keyword"
   ]
  },
  {
   "cell_type": "code",
   "execution_count": 38,
   "metadata": {
    "colab": {
     "base_uri": "https://localhost:8080/"
    },
    "id": "k97DMXba5spM",
    "outputId": "6e13fc50-4b1c-4b8e-f8bd-6ad4c88128cc"
   },
   "outputs": [
    {
     "data": {
      "text/plain": [
       "['knitted dresses',\n",
       " 'craft based product design',\n",
       " 'working professional',\n",
       " 'idea',\n",
       " 'working',\n",
       " 'started',\n",
       " 'women empowerment',\n",
       " 'plume french academy',\n",
       " 'thanks mkr team',\n",
       " 'family business',\n",
       " 'kishma venture pvt ltd',\n",
       " 'kishma venture pvt ltd',\n",
       " 'training',\n",
       " 'digital marketer',\n",
       " 'different industries',\n",
       " 'possibility',\n",
       " 'civic engagement',\n",
       " 'content advisor',\n",
       " 'film production',\n",
       " 'startup till',\n",
       " 'want',\n",
       " 'clothing like tops',\n",
       " 'cricket entertainment',\n",
       " 'idea stage',\n",
       " 'startup goal',\n",
       " 'india ’',\n",
       " 'nagpur',\n",
       " 'mind power trainer',\n",
       " 'cricket entertainment',\n",
       " 'also make mask',\n",
       " 'growthhacker',\n",
       " 'associated social impact',\n",
       " 'started',\n",
       " 'largest online mentorship community',\n",
       " 'largest online mentorship community',\n",
       " 'great',\n",
       " 'travel blog',\n",
       " 'handcrafted products',\n",
       " 'blouse stitching',\n",
       " 'tech sector',\n",
       " 'start',\n",
       " 'journalism really want',\n",
       " 'legal',\n",
       " 'gift items',\n",
       " 'ideas',\n",
       " 'virtual assistance',\n",
       " 'pooja',\n",
       " 'macrame',\n",
       " 'macrame',\n",
       " 'fragrance story',\n",
       " 'learning portal',\n",
       " 'looking',\n",
       " 'catering business',\n",
       " 'homemaker',\n",
       " 'providing organic content',\n",
       " 'planning',\n",
       " 'potential entrepreneurs starting',\n",
       " 'planning',\n",
       " 'crafts journey',\n",
       " 'traditional outfits',\n",
       " 'rural punjab',\n",
       " 'interested ur bussins',\n",
       " 'aspiring entrepreneur',\n",
       " 'water management',\n",
       " 'design',\n",
       " 'want',\n",
       " 'end',\n",
       " 'womens',\n",
       " 'manufacture chemical',\n",
       " 'freelancer teacher',\n",
       " 'marginalised women',\n",
       " 'pr firm',\n",
       " 'yoga instructor',\n",
       " 'mba aspirants',\n",
       " 'aspiring game designer',\n",
       " 'app development',\n",
       " 'marketing',\n",
       " 'pure foods',\n",
       " 'like',\n",
       " 'bakery',\n",
       " 'education',\n",
       " 'gshsjsbsvshh',\n",
       " 'startup initially',\n",
       " 'want',\n",
       " 'digital marketing',\n",
       " 'women sensitive issues',\n",
       " 'handicraft',\n",
       " 'social media',\n",
       " 'cup designing',\n",
       " 'started yet',\n",
       " 'cup designing',\n",
       " 'chole bhature home delivery',\n",
       " 'sharing delicious memory',\n",
       " 'eco friendly',\n",
       " 'rural educationist',\n",
       " 'young indian men',\n",
       " 'coaching',\n",
       " 'ensuring better financial health']"
      ]
     },
     "execution_count": 38,
     "metadata": {
      "tags": []
     },
     "output_type": "execute_result"
    }
   ],
   "source": [
    "second_keyword"
   ]
  },
  {
   "cell_type": "code",
   "execution_count": 39,
   "metadata": {
    "colab": {
     "base_uri": "https://localhost:8080/",
     "height": 570
    },
    "id": "Qu89BNTo_egg",
    "outputId": "490cdaa6-7e65-4f73-d344-bca08c2713d1"
   },
   "outputs": [
    {
     "data": {
      "text/html": [
       "<div>\n",
       "<style scoped>\n",
       "    .dataframe tbody tr th:only-of-type {\n",
       "        vertical-align: middle;\n",
       "    }\n",
       "\n",
       "    .dataframe tbody tr th {\n",
       "        vertical-align: top;\n",
       "    }\n",
       "\n",
       "    .dataframe thead th {\n",
       "        text-align: right;\n",
       "    }\n",
       "</style>\n",
       "<table border=\"1\" class=\"dataframe\">\n",
       "  <thead>\n",
       "    <tr style=\"text-align: right;\">\n",
       "      <th></th>\n",
       "      <th>Timestamp</th>\n",
       "      <th>Full Name</th>\n",
       "      <th>City</th>\n",
       "      <th>Brief about your start-up</th>\n",
       "      <th>keyword</th>\n",
       "      <th>first_keyword</th>\n",
       "      <th>second_keyword</th>\n",
       "    </tr>\n",
       "  </thead>\n",
       "  <tbody>\n",
       "    <tr>\n",
       "      <th>0</th>\n",
       "      <td>2020-08-20 16:39:50.273</td>\n",
       "      <td>Mehak Nayyar</td>\n",
       "      <td>Bareilly</td>\n",
       "      <td>Make handmade products at home related to knit...</td>\n",
       "      <td>[(9.0, make handmade products), (4.0, knitted ...</td>\n",
       "      <td>make handmade products</td>\n",
       "      <td>knitted dresses</td>\n",
       "    </tr>\n",
       "    <tr>\n",
       "      <th>1</th>\n",
       "      <td>2020-08-20 18:08:17.990</td>\n",
       "      <td>Anshika Jain</td>\n",
       "      <td>Sagar</td>\n",
       "      <td>Craft based product design</td>\n",
       "      <td>[(16.0, craft based product design)]</td>\n",
       "      <td>craft based product design</td>\n",
       "      <td>craft based product design</td>\n",
       "    </tr>\n",
       "    <tr>\n",
       "      <th>2</th>\n",
       "      <td>2020-08-20 18:14:07.821</td>\n",
       "      <td>Bhairavee Pradhan-Nitave</td>\n",
       "      <td>Pune</td>\n",
       "      <td>I am a working professional.</td>\n",
       "      <td>[(4.0, working professional)]</td>\n",
       "      <td>working professional</td>\n",
       "      <td>working professional</td>\n",
       "    </tr>\n",
       "    <tr>\n",
       "      <th>3</th>\n",
       "      <td>2020-08-20 18:21:00.268</td>\n",
       "      <td>Monika</td>\n",
       "      <td>Chennai</td>\n",
       "      <td>Really new to this  so no idea</td>\n",
       "      <td>[(4.0, really new), (1.0, idea)]</td>\n",
       "      <td>really new</td>\n",
       "      <td>idea</td>\n",
       "    </tr>\n",
       "    <tr>\n",
       "      <th>4</th>\n",
       "      <td>2020-08-20 19:32:41.238</td>\n",
       "      <td>Stuti Prasad</td>\n",
       "      <td>MUMBAI</td>\n",
       "      <td>I am working with a road safety startup.</td>\n",
       "      <td>[(9.0, road safety startup), (1.0, working)]</td>\n",
       "      <td>road safety startup</td>\n",
       "      <td>working</td>\n",
       "    </tr>\n",
       "    <tr>\n",
       "      <th>...</th>\n",
       "      <td>...</td>\n",
       "      <td>...</td>\n",
       "      <td>...</td>\n",
       "      <td>...</td>\n",
       "      <td>...</td>\n",
       "      <td>...</td>\n",
       "      <td>...</td>\n",
       "    </tr>\n",
       "    <tr>\n",
       "      <th>93</th>\n",
       "      <td>2020-10-02 10:55:11.504</td>\n",
       "      <td>Nancy Felix</td>\n",
       "      <td>Navi Mumbai</td>\n",
       "      <td>Eco friendly and reusable cups and plates</td>\n",
       "      <td>[(4.0, reusable cups), (4.0, eco friendly)]</td>\n",
       "      <td>reusable cups</td>\n",
       "      <td>eco friendly</td>\n",
       "    </tr>\n",
       "    <tr>\n",
       "      <th>94</th>\n",
       "      <td>2020-10-02 17:28:00.851</td>\n",
       "      <td>Renuka Deshmukh</td>\n",
       "      <td>Mumbai</td>\n",
       "      <td>Rural Educationist</td>\n",
       "      <td>[(4.0, rural educationist)]</td>\n",
       "      <td>rural educationist</td>\n",
       "      <td>rural educationist</td>\n",
       "    </tr>\n",
       "    <tr>\n",
       "      <th>95</th>\n",
       "      <td>2020-10-02 20:28:38.458</td>\n",
       "      <td>Iba Basan</td>\n",
       "      <td>Shillong</td>\n",
       "      <td>I started with a small online btob app with th...</td>\n",
       "      <td>[(16.0, small online btob app), (9.0, young in...</td>\n",
       "      <td>small online btob app</td>\n",
       "      <td>young indian men</td>\n",
       "    </tr>\n",
       "    <tr>\n",
       "      <th>96</th>\n",
       "      <td>2020-10-03 12:59:57.427</td>\n",
       "      <td>Jayant tiwari</td>\n",
       "      <td>Pune</td>\n",
       "      <td>Coaching</td>\n",
       "      <td>[(1.0, coaching)]</td>\n",
       "      <td>coaching</td>\n",
       "      <td>coaching</td>\n",
       "    </tr>\n",
       "    <tr>\n",
       "      <th>97</th>\n",
       "      <td>2020-10-09 14:17:28.803</td>\n",
       "      <td>SAJJA SAI PRIYANKA</td>\n",
       "      <td>HYDERABAD</td>\n",
       "      <td>Artha Samarth is a social venture aimed to bui...</td>\n",
       "      <td>[(18.933333333333334, newly established ngos w...</td>\n",
       "      <td>newly established ngos would require</td>\n",
       "      <td>ensuring better financial health</td>\n",
       "    </tr>\n",
       "  </tbody>\n",
       "</table>\n",
       "<p>98 rows × 7 columns</p>\n",
       "</div>"
      ],
      "text/plain": [
       "                 Timestamp  ...                    second_keyword\n",
       "0  2020-08-20 16:39:50.273  ...                   knitted dresses\n",
       "1  2020-08-20 18:08:17.990  ...        craft based product design\n",
       "2  2020-08-20 18:14:07.821  ...              working professional\n",
       "3  2020-08-20 18:21:00.268  ...                              idea\n",
       "4  2020-08-20 19:32:41.238  ...                           working\n",
       "..                     ...  ...                               ...\n",
       "93 2020-10-02 10:55:11.504  ...                      eco friendly\n",
       "94 2020-10-02 17:28:00.851  ...                rural educationist\n",
       "95 2020-10-02 20:28:38.458  ...                  young indian men\n",
       "96 2020-10-03 12:59:57.427  ...                          coaching\n",
       "97 2020-10-09 14:17:28.803  ...  ensuring better financial health\n",
       "\n",
       "[98 rows x 7 columns]"
      ]
     },
     "execution_count": 39,
     "metadata": {
      "tags": []
     },
     "output_type": "execute_result"
    }
   ],
   "source": [
    "df['first_keyword']=first_keyword\n",
    "df['second_keyword']=second_keyword\n",
    "df"
   ]
  },
  {
   "cell_type": "code",
   "execution_count": 40,
   "metadata": {
    "id": "hmTNpLsz_qH1"
   },
   "outputs": [],
   "source": [
    "df.drop(columns='keyword',inplace=True)"
   ]
  },
  {
   "cell_type": "code",
   "execution_count": 41,
   "metadata": {
    "colab": {
     "base_uri": "https://localhost:8080/",
     "height": 279
    },
    "id": "fjiCIGXQ_qUn",
    "outputId": "9fc4511a-289e-4b19-a8df-e6ec7a6363ad"
   },
   "outputs": [
    {
     "data": {
      "text/html": [
       "<div>\n",
       "<style scoped>\n",
       "    .dataframe tbody tr th:only-of-type {\n",
       "        vertical-align: middle;\n",
       "    }\n",
       "\n",
       "    .dataframe tbody tr th {\n",
       "        vertical-align: top;\n",
       "    }\n",
       "\n",
       "    .dataframe thead th {\n",
       "        text-align: right;\n",
       "    }\n",
       "</style>\n",
       "<table border=\"1\" class=\"dataframe\">\n",
       "  <thead>\n",
       "    <tr style=\"text-align: right;\">\n",
       "      <th></th>\n",
       "      <th>Timestamp</th>\n",
       "      <th>Full Name</th>\n",
       "      <th>City</th>\n",
       "      <th>Brief about your start-up</th>\n",
       "      <th>first_keyword</th>\n",
       "      <th>second_keyword</th>\n",
       "    </tr>\n",
       "  </thead>\n",
       "  <tbody>\n",
       "    <tr>\n",
       "      <th>0</th>\n",
       "      <td>2020-08-20 16:39:50.273</td>\n",
       "      <td>Mehak Nayyar</td>\n",
       "      <td>Bareilly</td>\n",
       "      <td>Make handmade products at home related to knit...</td>\n",
       "      <td>make handmade products</td>\n",
       "      <td>knitted dresses</td>\n",
       "    </tr>\n",
       "    <tr>\n",
       "      <th>1</th>\n",
       "      <td>2020-08-20 18:08:17.990</td>\n",
       "      <td>Anshika Jain</td>\n",
       "      <td>Sagar</td>\n",
       "      <td>Craft based product design</td>\n",
       "      <td>craft based product design</td>\n",
       "      <td>craft based product design</td>\n",
       "    </tr>\n",
       "    <tr>\n",
       "      <th>2</th>\n",
       "      <td>2020-08-20 18:14:07.821</td>\n",
       "      <td>Bhairavee Pradhan-Nitave</td>\n",
       "      <td>Pune</td>\n",
       "      <td>I am a working professional.</td>\n",
       "      <td>working professional</td>\n",
       "      <td>working professional</td>\n",
       "    </tr>\n",
       "    <tr>\n",
       "      <th>3</th>\n",
       "      <td>2020-08-20 18:21:00.268</td>\n",
       "      <td>Monika</td>\n",
       "      <td>Chennai</td>\n",
       "      <td>Really new to this  so no idea</td>\n",
       "      <td>really new</td>\n",
       "      <td>idea</td>\n",
       "    </tr>\n",
       "    <tr>\n",
       "      <th>4</th>\n",
       "      <td>2020-08-20 19:32:41.238</td>\n",
       "      <td>Stuti Prasad</td>\n",
       "      <td>MUMBAI</td>\n",
       "      <td>I am working with a road safety startup.</td>\n",
       "      <td>road safety startup</td>\n",
       "      <td>working</td>\n",
       "    </tr>\n",
       "  </tbody>\n",
       "</table>\n",
       "</div>"
      ],
      "text/plain": [
       "                Timestamp  ...              second_keyword\n",
       "0 2020-08-20 16:39:50.273  ...             knitted dresses\n",
       "1 2020-08-20 18:08:17.990  ...  craft based product design\n",
       "2 2020-08-20 18:14:07.821  ...        working professional\n",
       "3 2020-08-20 18:21:00.268  ...                        idea\n",
       "4 2020-08-20 19:32:41.238  ...                     working\n",
       "\n",
       "[5 rows x 6 columns]"
      ]
     },
     "execution_count": 41,
     "metadata": {
      "tags": []
     },
     "output_type": "execute_result"
    }
   ],
   "source": [
    "df.head()"
   ]
  },
  {
   "cell_type": "code",
   "execution_count": 42,
   "metadata": {
    "id": "UZ2EwOnq_qWp"
   },
   "outputs": [],
   "source": [
    "df.to_excel('new.xlsx',index=False)"
   ]
  },
  {
   "cell_type": "code",
   "execution_count": null,
   "metadata": {
    "id": "YdSRalow_qZf"
   },
   "outputs": [],
   "source": []
  },
  {
   "cell_type": "code",
   "execution_count": null,
   "metadata": {
    "id": "SQAQdVZS_qbj"
   },
   "outputs": [],
   "source": []
  },
  {
   "cell_type": "code",
   "execution_count": null,
   "metadata": {
    "id": "E9VwGvQq_qd5"
   },
   "outputs": [],
   "source": []
  },
  {
   "cell_type": "code",
   "execution_count": null,
   "metadata": {
    "id": "lro1vG3I_qgw"
   },
   "outputs": [],
   "source": []
  },
  {
   "cell_type": "code",
   "execution_count": null,
   "metadata": {
    "id": "tL6j2E28_qjg"
   },
   "outputs": [],
   "source": []
  },
  {
   "cell_type": "code",
   "execution_count": null,
   "metadata": {
    "id": "76H0xFMS_qnB"
   },
   "outputs": [],
   "source": []
  }
 ],
 "metadata": {
  "colab": {
   "name": "RAKE.ipynb",
   "provenance": []
  },
  "kernelspec": {
   "display_name": "Python 3",
   "language": "python",
   "name": "python3"
  },
  "language_info": {
   "codemirror_mode": {
    "name": "ipython",
    "version": 3
   },
   "file_extension": ".py",
   "mimetype": "text/x-python",
   "name": "python",
   "nbconvert_exporter": "python",
   "pygments_lexer": "ipython3",
   "version": "3.7.4"
  }
 },
 "nbformat": 4,
 "nbformat_minor": 1
}
